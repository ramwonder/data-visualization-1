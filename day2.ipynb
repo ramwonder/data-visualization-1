{
  "nbformat": 4,
  "nbformat_minor": 0,
  "metadata": {
    "colab": {
      "name": "day2.ipynb",
      "provenance": [],
      "collapsed_sections": [],
      "authorship_tag": "ABX9TyPzB2oR2UDuoVWsL+xeB/QU",
      "include_colab_link": true
    },
    "kernelspec": {
      "name": "python3",
      "display_name": "Python 3"
    },
    "language_info": {
      "name": "python"
    }
  },
  "cells": [
    {
      "cell_type": "markdown",
      "metadata": {
        "id": "view-in-github",
        "colab_type": "text"
      },
      "source": [
        "<a href=\"https://colab.research.google.com/github/ramwonder/data-visualization-1/blob/main/day2.ipynb\" target=\"_parent\"><img src=\"https://colab.research.google.com/assets/colab-badge.svg\" alt=\"Open In Colab\"/></a>"
      ]
    },
    {
      "cell_type": "markdown",
      "metadata": {
        "id": "ZvAVtvm7mfIN"
      },
      "source": [
        "# **RAMYA**.T\n",
        "# DAY ASSIGNMENT \n",
        "\n",
        "\n",
        "DATA VISUALIZATION USING PYTHON\n",
        "\n",
        "Create a dataframe with 10 rows on random numbers and 4 columns, (columns labelled as a,b,c,d) and plot a bar chart"
      ]
    },
    {
      "cell_type": "code",
      "metadata": {
        "id": "WHNghGY9l7JL"
      },
      "source": [
        "import numpy as np\n",
        "import matplotlib.pyplot as plt\n",
        "import pandas as pd\n",
        "import seaborn as sns\n",
        "%matplotlib inline\n",
        "from numpy.random import randn,randint,uniform,sample"
      ],
      "execution_count": 1,
      "outputs": []
    },
    {
      "cell_type": "code",
      "metadata": {
        "colab": {
          "base_uri": "https://localhost:8080/",
          "height": 355
        },
        "id": "E0yMcbJonCfR",
        "outputId": "596b4fc8-78fe-4454-fef1-e4a18c154a50"
      },
      "source": [
        "df = pd.DataFrame(randn(10,4),columns=['a','b','c','d'])\n",
        "df"
      ],
      "execution_count": 2,
      "outputs": [
        {
          "output_type": "execute_result",
          "data": {
            "text/html": [
              "<div>\n",
              "<style scoped>\n",
              "    .dataframe tbody tr th:only-of-type {\n",
              "        vertical-align: middle;\n",
              "    }\n",
              "\n",
              "    .dataframe tbody tr th {\n",
              "        vertical-align: top;\n",
              "    }\n",
              "\n",
              "    .dataframe thead th {\n",
              "        text-align: right;\n",
              "    }\n",
              "</style>\n",
              "<table border=\"1\" class=\"dataframe\">\n",
              "  <thead>\n",
              "    <tr style=\"text-align: right;\">\n",
              "      <th></th>\n",
              "      <th>a</th>\n",
              "      <th>b</th>\n",
              "      <th>c</th>\n",
              "      <th>d</th>\n",
              "    </tr>\n",
              "  </thead>\n",
              "  <tbody>\n",
              "    <tr>\n",
              "      <th>0</th>\n",
              "      <td>-0.249671</td>\n",
              "      <td>0.719906</td>\n",
              "      <td>-0.056272</td>\n",
              "      <td>0.114443</td>\n",
              "    </tr>\n",
              "    <tr>\n",
              "      <th>1</th>\n",
              "      <td>0.085619</td>\n",
              "      <td>-0.602599</td>\n",
              "      <td>0.530665</td>\n",
              "      <td>0.183574</td>\n",
              "    </tr>\n",
              "    <tr>\n",
              "      <th>2</th>\n",
              "      <td>1.249283</td>\n",
              "      <td>-0.543187</td>\n",
              "      <td>-0.043552</td>\n",
              "      <td>0.143070</td>\n",
              "    </tr>\n",
              "    <tr>\n",
              "      <th>3</th>\n",
              "      <td>-2.009049</td>\n",
              "      <td>-0.381877</td>\n",
              "      <td>-2.731067</td>\n",
              "      <td>1.631297</td>\n",
              "    </tr>\n",
              "    <tr>\n",
              "      <th>4</th>\n",
              "      <td>-0.875679</td>\n",
              "      <td>-1.409088</td>\n",
              "      <td>2.524581</td>\n",
              "      <td>1.387925</td>\n",
              "    </tr>\n",
              "    <tr>\n",
              "      <th>5</th>\n",
              "      <td>0.816349</td>\n",
              "      <td>2.194648</td>\n",
              "      <td>0.447883</td>\n",
              "      <td>-2.241321</td>\n",
              "    </tr>\n",
              "    <tr>\n",
              "      <th>6</th>\n",
              "      <td>2.724177</td>\n",
              "      <td>-0.152189</td>\n",
              "      <td>-1.024097</td>\n",
              "      <td>0.912735</td>\n",
              "    </tr>\n",
              "    <tr>\n",
              "      <th>7</th>\n",
              "      <td>0.291659</td>\n",
              "      <td>-0.609718</td>\n",
              "      <td>-1.702480</td>\n",
              "      <td>0.135281</td>\n",
              "    </tr>\n",
              "    <tr>\n",
              "      <th>8</th>\n",
              "      <td>0.801573</td>\n",
              "      <td>-0.524474</td>\n",
              "      <td>-1.050372</td>\n",
              "      <td>1.395238</td>\n",
              "    </tr>\n",
              "    <tr>\n",
              "      <th>9</th>\n",
              "      <td>-1.401268</td>\n",
              "      <td>-0.442975</td>\n",
              "      <td>-1.357761</td>\n",
              "      <td>-0.420429</td>\n",
              "    </tr>\n",
              "  </tbody>\n",
              "</table>\n",
              "</div>"
            ],
            "text/plain": [
              "          a         b         c         d\n",
              "0 -0.249671  0.719906 -0.056272  0.114443\n",
              "1  0.085619 -0.602599  0.530665  0.183574\n",
              "2  1.249283 -0.543187 -0.043552  0.143070\n",
              "3 -2.009049 -0.381877 -2.731067  1.631297\n",
              "4 -0.875679 -1.409088  2.524581  1.387925\n",
              "5  0.816349  2.194648  0.447883 -2.241321\n",
              "6  2.724177 -0.152189 -1.024097  0.912735\n",
              "7  0.291659 -0.609718 -1.702480  0.135281\n",
              "8  0.801573 -0.524474 -1.050372  1.395238\n",
              "9 -1.401268 -0.442975 -1.357761 -0.420429"
            ]
          },
          "metadata": {
            "tags": []
          },
          "execution_count": 2
        }
      ]
    },
    {
      "cell_type": "code",
      "metadata": {
        "colab": {
          "base_uri": "https://localhost:8080/",
          "height": 621
        },
        "id": "t98d5YBHnKkX",
        "outputId": "d28e60bd-f428-4932-aee7-e1106dd1f774"
      },
      "source": [
        "\n",
        "df.plot(kind='bar',width=(2),figsize=(12,10))\n",
        "plt.title('Bar Graph')"
      ],
      "execution_count": 3,
      "outputs": [
        {
          "output_type": "execute_result",
          "data": {
            "text/plain": [
              "Text(0.5, 1.0, 'Bar Graph')"
            ]
          },
          "metadata": {
            "tags": []
          },
          "execution_count": 3
        },
        {
          "output_type": "display_data",
          "data": {
            "image/png": "[encoded data removed]",
            "text/plain": [
              "<Figure size 864x720 with 1 Axes>"
            ]
          },
          "metadata": {
            "tags": [],
            "needs_background": "light"
          }
        }
      ]
    }
  ]
}